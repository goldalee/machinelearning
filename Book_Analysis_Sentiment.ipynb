{
 "cells": [
  {
   "cell_type": "markdown",
   "id": "7b7cc128",
   "metadata": {},
   "source": [
    "### Load the book"
   ]
  },
  {
   "cell_type": "code",
   "execution_count": 1,
   "id": "d4fb101f",
   "metadata": {},
   "outputs": [],
   "source": [
    "with open(\"C:\\\\Users\\\\golda\\\\Downloads\\\\miracle_in_the_andes.txt\", \"r\", encoding='utf-8') as file:\n",
    "    book = file.read()\n",
    "    "
   ]
  },
  {
   "cell_type": "code",
   "execution_count": 2,
   "id": "bd34f07a",
   "metadata": {},
   "outputs": [
    {
     "data": {
      "text/plain": [
       "str"
      ]
     },
     "execution_count": 2,
     "metadata": {},
     "output_type": "execute_result"
    }
   ],
   "source": [
    "type(book)"
   ]
  },
  {
   "cell_type": "markdown",
   "id": "5e154b94",
   "metadata": {},
   "source": [
    "### How many chapters are in the book?"
   ]
  },
  {
   "cell_type": "markdown",
   "id": "def026d8",
   "metadata": {},
   "source": [
    "##### String method"
   ]
  },
  {
   "cell_type": "code",
   "execution_count": 3,
   "id": "c4f94666",
   "metadata": {},
   "outputs": [
    {
     "data": {
      "text/plain": [
       "11"
      ]
     },
     "execution_count": 3,
     "metadata": {},
     "output_type": "execute_result"
    }
   ],
   "source": [
    "book.count(\"Chapter\")"
   ]
  },
  {
   "cell_type": "markdown",
   "id": "ca645f56",
   "metadata": {},
   "source": [
    "#### With regular expressions"
   ]
  },
  {
   "cell_type": "code",
   "execution_count": 4,
   "id": "baa5d213",
   "metadata": {},
   "outputs": [],
   "source": [
    "import re #regular expressions"
   ]
  },
  {
   "cell_type": "code",
   "execution_count": 5,
   "id": "38790421",
   "metadata": {},
   "outputs": [
    {
     "data": {
      "text/plain": [
       "10"
      ]
     },
     "execution_count": 5,
     "metadata": {},
     "output_type": "execute_result"
    }
   ],
   "source": [
    "pattern = re.compile(\"Chapter [0-9]+\") #finds any digit along with its Chapter e.g. \"Chapter 3\" if it was \"Chapter ab\" etc., it would be \n",
    "                                        # Chapter [a-z]\n",
    "findings=re.findall(pattern, book)\n",
    "len(findings)"
   ]
  },
  {
   "cell_type": "markdown",
   "id": "365789f5",
   "metadata": {},
   "source": [
    "### Which sentences have the word 'love'?"
   ]
  },
  {
   "cell_type": "code",
   "execution_count": 6,
   "id": "dd48eea2",
   "metadata": {},
   "outputs": [
    {
     "data": {
      "text/plain": [
       "67"
      ]
     },
     "execution_count": 6,
     "metadata": {},
     "output_type": "execute_result"
    }
   ],
   "source": [
    "pattern = re.compile(\"[A-Z]{1}[^.]*[^a-zA-Z]+love[^a-zA-Z]+[^.]*.\")# the * stands for 0 or more , the [^.] means give me everything but the period, ^ negation symbol\n",
    "findings = re.findall(pattern, book)\n",
    "len(findings)"
   ]
  },
  {
   "cell_type": "markdown",
   "id": "53078c5f",
   "metadata": {},
   "source": [
    "### Which words are most used?"
   ]
  },
  {
   "cell_type": "code",
   "execution_count": 7,
   "id": "4ca38cae",
   "metadata": {},
   "outputs": [
    {
     "data": {
      "text/plain": [
       "['chapter', 'before', 'it', 'was', 'friday']"
      ]
     },
     "execution_count": 7,
     "metadata": {},
     "output_type": "execute_result"
    }
   ],
   "source": [
    "pattern = re.compile(\"[a-zA-Z]+\")\n",
    "findings = re.findall(pattern, book.lower())\n",
    "findings[:5]"
   ]
  },
  {
   "cell_type": "code",
   "execution_count": 8,
   "id": "ba5a5ae9",
   "metadata": {},
   "outputs": [],
   "source": [
    "d={} #empty dictionary\n",
    "for word in findings:\n",
    "    if word in d.keys():\n",
    "        d[word]=d[word]+1\n",
    "    else:\n",
    "        d[word]=1\n",
    "    "
   ]
  },
  {
   "cell_type": "code",
   "execution_count": 29,
   "id": "59897b80",
   "metadata": {},
   "outputs": [],
   "source": [
    "d_list = [(value, key) for (key, value) in d.items()]\n",
    "d_list=sorted(d_list, reverse=True)"
   ]
  },
  {
   "cell_type": "markdown",
   "id": "64e12371",
   "metadata": {},
   "source": [
    "#### Extracts the paragraphs where love was used"
   ]
  },
  {
   "cell_type": "code",
   "execution_count": 11,
   "id": "083d39cf",
   "metadata": {},
   "outputs": [
    {
     "data": {
      "text/plain": [
       "['To me, this is the essence of rugby. No other sport gives you such an intense sense of selflessness and unified purpose. I believe this is why rugby players all over the world feel such a passion for the game and such a feeling of brotherhood. As a young man, of course, I could not put these things into words, but I knew, and my teammates knew, that there was something special about the game, and under the guidance of the Christian Brothers we developed a passionate love for the sport that shaped our friendships and our lives. For eight years we played our hearts out for the Christian Brothers—a brotherhood of young boys with Latin names, playing a game with deep Anglo roots under Uruguay’s sunny skies, and proudly wearing the bright green shamrock on our uniforms. The game became so much a part of our lives, in fact, that when we graduated from Stella Maris at the age of sixteen, many of us could not bear the thought that our playing days were over. Our salvation came in the form of the Old Christians Club, a private rugby team formed in 1965 by previous alumni of the Stella Maris rugby program to give Stella Maris ruggers a chance to continue playing the game after our school years ended.',\n",
       " 'There were others—Alexis Hounie, Gastón Costemalle, Daniel Shaw—all of them great players and all of them my friends. But my oldest friend was Guido Magri. He and I had met on my first day at the Stella Maris School—I was eight years old and Guido was one year older—and we had been inseparable ever since. Guido and I grew up together, playing soccer and sharing a love of motorcycles, cars, and auto racing. When I was fifteen we both had mopeds that we had modified in silly ways—removing the mufflers, turn signals, and fenders—and we would ride them to Las Delicias, a famous ice cream parlor in our neighborhood, where we would drool over the girls from the nearby School Sagrado Corazón, hoping to impress them with our souped-up scooters. Guido was a dependable friend, with a good sense of humor and an easy laugh. He was also an outstanding scrum half, as quick and smart as a fox, with good hands and great courage. Under the guidance of the Christian Brothers, both of us grew to love the game of rugby with a consuming passion. As seasons passed we worked hard to improve our skills, and by the time I was fifteen we had each earned a spot on the Stella Maris First XV, the team’s starting lineup. After graduation, both of us went on to join the Old Christians and spent several happy seasons pursuing the high-octane social life of young rugby players. That rowdiness came to an abrupt end for Guido in 1969, when he met and fell in love with the beautiful daughter of a Chilean diplomat. She was now his fiancée, and he was happy to behave himself for her sake.']"
      ]
     },
     "execution_count": 11,
     "metadata": {},
     "output_type": "execute_result"
    }
   ],
   "source": [
    "pattern = re.compile(\"[^\\n]+love[^\\n]+\")\n",
    "findings = re.findall(pattern, book)\n",
    "findings[:2]"
   ]
  },
  {
   "cell_type": "markdown",
   "id": "1397ab28",
   "metadata": {},
   "source": [
    "### Extract the chapter titles"
   ]
  },
  {
   "cell_type": "markdown",
   "id": "86f87ff4",
   "metadata": {},
   "source": [
    "#### Method 1"
   ]
  },
  {
   "cell_type": "code",
   "execution_count": 12,
   "id": "369f4509",
   "metadata": {},
   "outputs": [
    {
     "data": {
      "text/plain": [
       "['Before',\n",
       " 'Everything Precious',\n",
       " 'A Promise',\n",
       " 'Breathe Once More',\n",
       " 'Abandoned',\n",
       " 'Tomb',\n",
       " 'East',\n",
       " 'The Opposite of Death',\n",
       " 'I See a Man',\n",
       " 'After']"
      ]
     },
     "execution_count": 12,
     "metadata": {},
     "output_type": "execute_result"
    }
   ],
   "source": [
    "pattern = re.compile(\"[a-zA-Z ]+\\n\\n\")\n",
    "findings = re.findall(pattern, book)\n",
    "findings = [item.strip(\"\\n\\n\") for item in findings]\n",
    "findings"
   ]
  },
  {
   "cell_type": "markdown",
   "id": "8138c2f0",
   "metadata": {},
   "source": [
    "#### Method 2"
   ]
  },
  {
   "cell_type": "code",
   "execution_count": 13,
   "id": "81da1da0",
   "metadata": {},
   "outputs": [
    {
     "data": {
      "text/plain": [
       "['Before',\n",
       " 'Everything Precious',\n",
       " 'A Promise',\n",
       " 'Breathe Once More',\n",
       " 'Abandoned',\n",
       " 'Tomb',\n",
       " 'East',\n",
       " 'The Opposite of Death',\n",
       " 'I See a Man',\n",
       " 'After']"
      ]
     },
     "execution_count": 13,
     "metadata": {},
     "output_type": "execute_result"
    }
   ],
   "source": [
    "pattern = re.compile(\"([a-zA-Z ]+)\\n\\n\")\n",
    "findings = re.findall(pattern, book)\n",
    "findings"
   ]
  },
  {
   "cell_type": "markdown",
   "id": "d13e8d95",
   "metadata": {},
   "source": [
    "### Function to find the number of occurences of any word"
   ]
  },
  {
   "cell_type": "code",
   "execution_count": 14,
   "id": "fae0a02f",
   "metadata": {},
   "outputs": [],
   "source": [
    "def find(w):\n",
    "    pattern = re.compile(\"[a-zA-Z]+\")\n",
    "    findings = re.findall(pattern, book.lower())\n",
    "    d={}\n",
    "    for word in findings:\n",
    "        if word in d.keys():\n",
    "            d[word] =d[word]+1\n",
    "        else:\n",
    "            d[word] =1\n",
    "    try:\n",
    "        return d[w]\n",
    "    except:\n",
    "        return f'The book does not contain the word \"{w}\"'"
   ]
  },
  {
   "cell_type": "markdown",
   "id": "28d9c483",
   "metadata": {},
   "source": [
    "### Calling the find function"
   ]
  },
  {
   "cell_type": "code",
   "execution_count": 15,
   "id": "e8e038d7",
   "metadata": {},
   "outputs": [
    {
     "data": {
      "text/plain": [
       "5346"
      ]
     },
     "execution_count": 15,
     "metadata": {},
     "output_type": "execute_result"
    }
   ],
   "source": [
    "find(\"the\")"
   ]
  },
  {
   "cell_type": "code",
   "execution_count": 16,
   "id": "f260c9b1",
   "metadata": {},
   "outputs": [
    {
     "data": {
      "text/plain": [
       "2"
      ]
     },
     "execution_count": 16,
     "metadata": {},
     "output_type": "execute_result"
    }
   ],
   "source": [
    "find(\"surprise\")"
   ]
  },
  {
   "cell_type": "code",
   "execution_count": 17,
   "id": "e0cfff11",
   "metadata": {},
   "outputs": [
    {
     "data": {
      "text/plain": [
       "1"
      ]
     },
     "execution_count": 17,
     "metadata": {},
     "output_type": "execute_result"
    }
   ],
   "source": [
    "find(\"gold\")"
   ]
  },
  {
   "cell_type": "code",
   "execution_count": 18,
   "id": "3bd7af57",
   "metadata": {},
   "outputs": [
    {
     "data": {
      "text/plain": [
       "36"
      ]
     },
     "execution_count": 18,
     "metadata": {},
     "output_type": "execute_result"
    }
   ],
   "source": [
    "find(\"water\")"
   ]
  },
  {
   "cell_type": "code",
   "execution_count": 19,
   "id": "e4ab2598",
   "metadata": {},
   "outputs": [
    {
     "data": {
      "text/plain": [
       "3"
      ]
     },
     "execution_count": 19,
     "metadata": {},
     "output_type": "execute_result"
    }
   ],
   "source": [
    "find(\"phone\")"
   ]
  },
  {
   "cell_type": "code",
   "execution_count": 20,
   "id": "ba26274c",
   "metadata": {},
   "outputs": [
    {
     "data": {
      "text/plain": [
       "'The book does not contain the word \"pepper\"'"
      ]
     },
     "execution_count": 20,
     "metadata": {},
     "output_type": "execute_result"
    }
   ],
   "source": [
    "find(\"pepper\")"
   ]
  },
  {
   "cell_type": "markdown",
   "id": "7c1de8eb",
   "metadata": {},
   "source": [
    "## Natural Language Processing"
   ]
  },
  {
   "cell_type": "markdown",
   "id": "0ee79b52",
   "metadata": {},
   "source": [
    "#### Find the most used words (non-articles)"
   ]
  },
  {
   "cell_type": "code",
   "execution_count": 21,
   "id": "44164ca1",
   "metadata": {},
   "outputs": [
    {
     "name": "stderr",
     "output_type": "stream",
     "text": [
      "C:\\Users\\golda\\anaconda3\\lib\\site-packages\\scipy\\__init__.py:146: UserWarning: A NumPy version >=1.16.5 and <1.23.0 is required for this version of SciPy (detected version 1.24.1\n",
      "  warnings.warn(f\"A NumPy version >={np_minversion} and <{np_maxversion}\"\n"
     ]
    }
   ],
   "source": [
    "import nltk"
   ]
  },
  {
   "cell_type": "code",
   "execution_count": 22,
   "id": "7bed0375",
   "metadata": {},
   "outputs": [],
   "source": [
    "from nltk.corpus import stopwords"
   ]
  },
  {
   "cell_type": "code",
   "execution_count": 23,
   "id": "ed8c8fe8",
   "metadata": {},
   "outputs": [],
   "source": [
    "english_stopwords = stopwords.words(\"english\")"
   ]
  },
  {
   "cell_type": "code",
   "execution_count": 24,
   "id": "a903d094",
   "metadata": {},
   "outputs": [
    {
     "data": {
      "text/plain": [
       "['i',\n",
       " 'me',\n",
       " 'my',\n",
       " 'myself',\n",
       " 'we',\n",
       " 'our',\n",
       " 'ours',\n",
       " 'ourselves',\n",
       " 'you',\n",
       " \"you're\",\n",
       " \"you've\",\n",
       " \"you'll\",\n",
       " \"you'd\",\n",
       " 'your',\n",
       " 'yours',\n",
       " 'yourself',\n",
       " 'yourselves',\n",
       " 'he',\n",
       " 'him',\n",
       " 'his',\n",
       " 'himself',\n",
       " 'she',\n",
       " \"she's\",\n",
       " 'her',\n",
       " 'hers',\n",
       " 'herself',\n",
       " 'it',\n",
       " \"it's\",\n",
       " 'its',\n",
       " 'itself',\n",
       " 'they',\n",
       " 'them',\n",
       " 'their',\n",
       " 'theirs',\n",
       " 'themselves',\n",
       " 'what',\n",
       " 'which',\n",
       " 'who',\n",
       " 'whom',\n",
       " 'this',\n",
       " 'that',\n",
       " \"that'll\",\n",
       " 'these',\n",
       " 'those',\n",
       " 'am',\n",
       " 'is',\n",
       " 'are',\n",
       " 'was',\n",
       " 'were',\n",
       " 'be',\n",
       " 'been',\n",
       " 'being',\n",
       " 'have',\n",
       " 'has',\n",
       " 'had',\n",
       " 'having',\n",
       " 'do',\n",
       " 'does',\n",
       " 'did',\n",
       " 'doing',\n",
       " 'a',\n",
       " 'an',\n",
       " 'the',\n",
       " 'and',\n",
       " 'but',\n",
       " 'if',\n",
       " 'or',\n",
       " 'because',\n",
       " 'as',\n",
       " 'until',\n",
       " 'while',\n",
       " 'of',\n",
       " 'at',\n",
       " 'by',\n",
       " 'for',\n",
       " 'with',\n",
       " 'about',\n",
       " 'against',\n",
       " 'between',\n",
       " 'into',\n",
       " 'through',\n",
       " 'during',\n",
       " 'before',\n",
       " 'after',\n",
       " 'above',\n",
       " 'below',\n",
       " 'to',\n",
       " 'from',\n",
       " 'up',\n",
       " 'down',\n",
       " 'in',\n",
       " 'out',\n",
       " 'on',\n",
       " 'off',\n",
       " 'over',\n",
       " 'under',\n",
       " 'again',\n",
       " 'further',\n",
       " 'then',\n",
       " 'once',\n",
       " 'here',\n",
       " 'there',\n",
       " 'when',\n",
       " 'where',\n",
       " 'why',\n",
       " 'how',\n",
       " 'all',\n",
       " 'any',\n",
       " 'both',\n",
       " 'each',\n",
       " 'few',\n",
       " 'more',\n",
       " 'most',\n",
       " 'other',\n",
       " 'some',\n",
       " 'such',\n",
       " 'no',\n",
       " 'nor',\n",
       " 'not',\n",
       " 'only',\n",
       " 'own',\n",
       " 'same',\n",
       " 'so',\n",
       " 'than',\n",
       " 'too',\n",
       " 'very',\n",
       " 's',\n",
       " 't',\n",
       " 'can',\n",
       " 'will',\n",
       " 'just',\n",
       " 'don',\n",
       " \"don't\",\n",
       " 'should',\n",
       " \"should've\",\n",
       " 'now',\n",
       " 'd',\n",
       " 'll',\n",
       " 'm',\n",
       " 'o',\n",
       " 're',\n",
       " 've',\n",
       " 'y',\n",
       " 'ain',\n",
       " 'aren',\n",
       " \"aren't\",\n",
       " 'couldn',\n",
       " \"couldn't\",\n",
       " 'didn',\n",
       " \"didn't\",\n",
       " 'doesn',\n",
       " \"doesn't\",\n",
       " 'hadn',\n",
       " \"hadn't\",\n",
       " 'hasn',\n",
       " \"hasn't\",\n",
       " 'haven',\n",
       " \"haven't\",\n",
       " 'isn',\n",
       " \"isn't\",\n",
       " 'ma',\n",
       " 'mightn',\n",
       " \"mightn't\",\n",
       " 'mustn',\n",
       " \"mustn't\",\n",
       " 'needn',\n",
       " \"needn't\",\n",
       " 'shan',\n",
       " \"shan't\",\n",
       " 'shouldn',\n",
       " \"shouldn't\",\n",
       " 'wasn',\n",
       " \"wasn't\",\n",
       " 'weren',\n",
       " \"weren't\",\n",
       " 'won',\n",
       " \"won't\",\n",
       " 'wouldn',\n",
       " \"wouldn't\"]"
      ]
     },
     "execution_count": 24,
     "metadata": {},
     "output_type": "execute_result"
    }
   ],
   "source": [
    "english_stopwords"
   ]
  },
  {
   "cell_type": "code",
   "execution_count": 30,
   "id": "74f77986",
   "metadata": {},
   "outputs": [],
   "source": [
    "filtered_words =[]\n",
    "for count, word in d_list:\n",
    "    if word not in english_stopwords:\n",
    "        filtered_words.append([word, count])\n",
    "        "
   ]
  },
  {
   "cell_type": "code",
   "execution_count": 31,
   "id": "2dbb7f02",
   "metadata": {},
   "outputs": [
    {
     "data": {
      "text/plain": [
       "[['would', 575],\n",
       " ['us', 519],\n",
       " ['said', 292],\n",
       " ['roberto', 284],\n",
       " ['could', 252],\n",
       " ['one', 249],\n",
       " ['snow', 227],\n",
       " ['mountain', 183],\n",
       " ['time', 182],\n",
       " ['like', 165]]"
      ]
     },
     "execution_count": 31,
     "metadata": {},
     "output_type": "execute_result"
    }
   ],
   "source": [
    "filtered_words[:10]"
   ]
  },
  {
   "cell_type": "markdown",
   "id": "04493a89",
   "metadata": {},
   "source": [
    "## Sentiment Analysis "
   ]
  },
  {
   "cell_type": "markdown",
   "id": "7dcb2179",
   "metadata": {},
   "source": [
    "### What is the most positive and negative chapters?"
   ]
  },
  {
   "cell_type": "code",
   "execution_count": 32,
   "id": "2e1849ff",
   "metadata": {},
   "outputs": [],
   "source": [
    "from nltk.sentiment import SentimentIntensityAnalyzer"
   ]
  },
  {
   "cell_type": "code",
   "execution_count": 33,
   "id": "e13c6a4a",
   "metadata": {},
   "outputs": [],
   "source": [
    "analyzer = SentimentIntensityAnalyzer()"
   ]
  },
  {
   "cell_type": "markdown",
   "id": "48da2213",
   "metadata": {},
   "source": [
    "- polarity_strength returns a float for sentiment strength based on the input text. Positive values are positive valence, negative value are negative valence."
   ]
  },
  {
   "cell_type": "code",
   "execution_count": 39,
   "id": "485e62e0",
   "metadata": {},
   "outputs": [],
   "source": [
    "# A simple example of text analysis\n",
    "scores =analyzer.polarity_scores(\"My son is so wonderful. He loves to help me sweep the room and put clothes in the washing machine. He loved to give hugs and smiles.\")"
   ]
  },
  {
   "cell_type": "code",
   "execution_count": 40,
   "id": "af478bca",
   "metadata": {},
   "outputs": [
    {
     "name": "stdout",
     "output_type": "stream",
     "text": [
      "It is a positive text\n"
     ]
    }
   ],
   "source": [
    "if scores[\"pos\"] >scores[\"neg\"]:\n",
    "    print(\"It is a positive text\")\n",
    "else:\n",
    "    print(\"It is a negative text\")"
   ]
  },
  {
   "cell_type": "code",
   "execution_count": 41,
   "id": "94238d31",
   "metadata": {},
   "outputs": [],
   "source": [
    "scores =  analyzer.polarity_scores(book)"
   ]
  },
  {
   "cell_type": "code",
   "execution_count": 42,
   "id": "5a5aa586",
   "metadata": {},
   "outputs": [
    {
     "data": {
      "text/plain": [
       "{'neg': 0.116, 'neu': 0.76, 'pos': 0.125, 'compound': 1.0}"
      ]
     },
     "execution_count": 42,
     "metadata": {},
     "output_type": "execute_result"
    }
   ],
   "source": [
    "scores"
   ]
  },
  {
   "cell_type": "markdown",
   "id": "65b5d08b",
   "metadata": {},
   "source": [
    "### Sentiment analysis for each chapter"
   ]
  },
  {
   "cell_type": "code",
   "execution_count": 44,
   "id": "3c791122",
   "metadata": {},
   "outputs": [],
   "source": [
    "pattern = re.compile(\"Chapter [0-9]+\")\n",
    "chapters = re.split(pattern, book)\n",
    "chapters = chapters[1:]"
   ]
  },
  {
   "cell_type": "code",
   "execution_count": 49,
   "id": "97ec9d24",
   "metadata": {},
   "outputs": [
    {
     "name": "stdout",
     "output_type": "stream",
     "text": [
      "Chapter  1 {'neg': 0.061, 'neu': 0.779, 'pos': 0.16, 'compound': 1.0}\n",
      "Chapter  2 {'neg': 0.12, 'neu': 0.726, 'pos': 0.154, 'compound': 0.9991}\n",
      "Chapter  3 {'neg': 0.145, 'neu': 0.751, 'pos': 0.105, 'compound': -0.9999}\n",
      "Chapter  4 {'neg': 0.141, 'neu': 0.721, 'pos': 0.138, 'compound': -0.9963}\n",
      "Chapter  5 {'neg': 0.118, 'neu': 0.742, 'pos': 0.141, 'compound': 0.9997}\n",
      "Chapter  6 {'neg': 0.124, 'neu': 0.761, 'pos': 0.115, 'compound': -0.9979}\n",
      "Chapter  7 {'neg': 0.136, 'neu': 0.761, 'pos': 0.103, 'compound': -0.9999}\n",
      "Chapter  8 {'neg': 0.12, 'neu': 0.786, 'pos': 0.094, 'compound': -0.9998}\n",
      "Chapter  9 {'neg': 0.097, 'neu': 0.824, 'pos': 0.079, 'compound': -0.9996}\n",
      "Chapter  10 {'neg': 0.086, 'neu': 0.733, 'pos': 0.181, 'compound': 1.0}\n"
     ]
    }
   ],
   "source": [
    "for number, chapter in enumerate(chapters):\n",
    "    scores = analyzer.polarity_scores(chapter)\n",
    "    print(\"Chapter \", number+1, scores)"
   ]
  },
  {
   "cell_type": "code",
   "execution_count": null,
   "id": "b16e88dd",
   "metadata": {},
   "outputs": [],
   "source": []
  }
 ],
 "metadata": {
  "kernelspec": {
   "display_name": "Python 3 (ipykernel)",
   "language": "python",
   "name": "python3"
  },
  "language_info": {
   "codemirror_mode": {
    "name": "ipython",
    "version": 3
   },
   "file_extension": ".py",
   "mimetype": "text/x-python",
   "name": "python",
   "nbconvert_exporter": "python",
   "pygments_lexer": "ipython3",
   "version": "3.9.7"
  }
 },
 "nbformat": 4,
 "nbformat_minor": 5
}
